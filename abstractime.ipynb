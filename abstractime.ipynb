{
 "cells": [
  {
   "cell_type": "code",
   "execution_count": 1,
   "id": "edf1ee6e",
   "metadata": {},
   "outputs": [],
   "source": [
    "from transformers import pipeline\n"
   ]
  },
  {
   "cell_type": "code",
   "execution_count": 3,
   "id": "79e6b4ca",
   "metadata": {},
   "outputs": [
    {
     "name": "stderr",
     "output_type": "stream",
     "text": [
      "Device set to use cpu\n"
     ]
    }
   ],
   "source": [
    "summarizer = pipeline(\"summarization\", model= \"t5-base\", tokenizer= \"t5-base\", framework=\"pt\")"
   ]
  },
  {
   "cell_type": "code",
   "execution_count": 4,
   "id": "835e2d2b",
   "metadata": {},
   "outputs": [],
   "source": [
    "text = \"\"\"Globalization is a multifaceted process characterized by the increasing interconnectedness and interdependence of countries worldwide. This integration spans economic, social, cultural, political, and technological dimensions, driven by factors such as advancements in communication and transportation, the liberalization of trade and capital flows, and the spread of information. Essentially, globalization signifies a shift towards a more integrated global society where borders become less significant in various aspects of life.   \n",
    "\n",
    "Economically, globalization manifests in the expansion of international trade, the rise of multinational corporations, and the interconnectedness of financial markets. This has led to increased competition, the specialization of production across different nations, and the potential for greater economic growth. Consumers often benefit from a wider variety of goods and services at potentially lower prices. However, this economic integration also presents challenges such as increased competition for domestic industries, potential job displacement in some sectors, and the risk of global economic crises spreading rapidly.\"\"\""
   ]
  },
  {
   "cell_type": "code",
   "execution_count": 5,
   "id": "9ebed327",
   "metadata": {},
   "outputs": [
    {
     "name": "stdout",
     "output_type": "stream",
     "text": [
      "economically, globalization manifests in the expansion of international trade . this has led to increased competition, the specialization of production across different nations . economic integration also presents challenges such as increased competition for domestic industries .\n"
     ]
    }
   ],
   "source": [
    "summary = summarizer(text, max_length=100, min_length=30, do_sample=False)\n",
    "print(summary[0]['summary_text'])"
   ]
  }
 ],
 "metadata": {
  "kernelspec": {
   "display_name": "base",
   "language": "python",
   "name": "python3"
  },
  "language_info": {
   "codemirror_mode": {
    "name": "ipython",
    "version": 3
   },
   "file_extension": ".py",
   "mimetype": "text/x-python",
   "name": "python",
   "nbconvert_exporter": "python",
   "pygments_lexer": "ipython3",
   "version": "undefined.undefined.undefined"
  }
 },
 "nbformat": 4,
 "nbformat_minor": 5
}
