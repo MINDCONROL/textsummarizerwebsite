{
 "cells": [
  {
   "cell_type": "code",
   "execution_count": 4,
   "id": "3971ac90",
   "metadata": {},
   "outputs": [],
   "source": [
    "\n",
    "text =\"\"\"\n",
    "Globalization is a multifaceted process characterized by the increasing interconnectedness and interdependence of countries worldwide. This integration spans economic, social, cultural, political, and technological dimensions, driven by factors such as advancements in communication and transportation, the liberalization of trade and capital flows, and the spread of information. Essentially, globalization signifies a shift towards a more integrated global society where borders become less significant in various aspects of life.   \n",
    "\n",
    "Economically, globalization manifests in the expansion of international trade, the rise of multinational corporations, and the interconnectedness of financial markets. This has led to increased competition, the specialization of production across different nations, and the potential for greater economic growth. Consumers often benefit from a wider variety of goods and services at potentially lower prices. However, this economic integration also presents challenges such as increased competition for domestic industries, potential job displacement in some sectors, and the risk of global economic crises spreading rapidly. \"\"\""
   ]
  },
  {
   "cell_type": "code",
   "execution_count": 6,
   "id": "c5878d01",
   "metadata": {},
   "outputs": [],
   "source": [
    "#count the characters in the text\n",
    "text_char = len(text)"
   ]
  },
  {
   "cell_type": "code",
   "execution_count": 8,
   "id": "f3acdbb2",
   "metadata": {},
   "outputs": [],
   "source": [
    "import spacy\n",
    "from spacy.lang.en.stop_words import STOP_WORDS\n",
    "from string import punctuation\n",
    "#from collections import Counter\n"
   ]
  },
  {
   "cell_type": "code",
   "execution_count": 9,
   "id": "a5935357",
   "metadata": {},
   "outputs": [],
   "source": [
    "#load the spacy model\n",
    "nlp = spacy.load(\"en_core_web_sm\")"
   ]
  },
  {
   "cell_type": "code",
   "execution_count": 10,
   "id": "e0115519",
   "metadata": {},
   "outputs": [],
   "source": [
    "#process the text with spacy\n",
    "doc = nlp(text)"
   ]
  },
  {
   "cell_type": "code",
   "execution_count": null,
   "id": "5a42fd02",
   "metadata": {},
   "outputs": [],
   "source": [
    "# Create a list of tokens by iterating through each token in the 'doc' object.\n",
    "# For each token, convert it to lowercase using token.text.lower().\n",
    "# Apply a series of filters to include only relevant tokens:\n",
    "    # Exclude punctuation using 'not token.is_punct'.\n",
    "    # Exclude whitespace characters using 'not token.is_space'.\n",
    "    # Exclude stop words (common words like 'the', 'a', 'is') using 'not token.is_stop'.\n",
    "    # Explicitly exclude newline characters ('\\n').\n",
    "    # Explicitly exclude tab characters ('\\t').\n",
    "    # Explicitly exclude carriage return characters ('\\r').\n",
    "# The result is a list named 'tokens' containing the cleaned and lowercased textual content of the 'doc' object.\n",
    "tokens = [token.text.lower() for token in doc\n",
    "          if not token.is_punct  # Remove punctuation\n",
    "          and not token.is_space  # Remove whitespace\n",
    "          and not token.is_stop   # Remove stop words\n",
    "          and token.text not in [\"\\n\", \"\\t\", \"\\r\"]] # Remove newline/tab/carriage return"
   ]
  },
  {
   "cell_type": "code",
   "execution_count": 12,
   "id": "ed8a857c",
   "metadata": {},
   "outputs": [
    {
     "data": {
      "text/plain": [
       "['globalization',\n",
       " 'multifaceted',\n",
       " 'process',\n",
       " 'characterized',\n",
       " 'increasing',\n",
       " 'interconnectedness',\n",
       " 'interdependence',\n",
       " 'countries',\n",
       " 'worldwide',\n",
       " 'integration',\n",
       " 'spans',\n",
       " 'economic',\n",
       " 'social',\n",
       " 'cultural',\n",
       " 'political',\n",
       " 'technological',\n",
       " 'dimensions',\n",
       " 'driven',\n",
       " 'factors',\n",
       " 'advancements',\n",
       " 'communication',\n",
       " 'transportation',\n",
       " 'liberalization',\n",
       " 'trade',\n",
       " 'capital',\n",
       " 'flows',\n",
       " 'spread',\n",
       " 'information',\n",
       " 'essentially',\n",
       " 'globalization',\n",
       " 'signifies',\n",
       " 'shift',\n",
       " 'integrated',\n",
       " 'global',\n",
       " 'society',\n",
       " 'borders',\n",
       " 'significant',\n",
       " 'aspects',\n",
       " 'life',\n",
       " 'economically',\n",
       " 'globalization',\n",
       " 'manifests',\n",
       " 'expansion',\n",
       " 'international',\n",
       " 'trade',\n",
       " 'rise',\n",
       " 'multinational',\n",
       " 'corporations',\n",
       " 'interconnectedness',\n",
       " 'financial',\n",
       " 'markets',\n",
       " 'led',\n",
       " 'increased',\n",
       " 'competition',\n",
       " 'specialization',\n",
       " 'production',\n",
       " 'different',\n",
       " 'nations',\n",
       " 'potential',\n",
       " 'greater',\n",
       " 'economic',\n",
       " 'growth',\n",
       " 'consumers',\n",
       " 'benefit',\n",
       " 'wider',\n",
       " 'variety',\n",
       " 'goods',\n",
       " 'services',\n",
       " 'potentially',\n",
       " 'lower',\n",
       " 'prices',\n",
       " 'economic',\n",
       " 'integration',\n",
       " 'presents',\n",
       " 'challenges',\n",
       " 'increased',\n",
       " 'competition',\n",
       " 'domestic',\n",
       " 'industries',\n",
       " 'potential',\n",
       " 'job',\n",
       " 'displacement',\n",
       " 'sectors',\n",
       " 'risk',\n",
       " 'global',\n",
       " 'economic',\n",
       " 'crises',\n",
       " 'spreading',\n",
       " 'rapidly']"
      ]
     },
     "execution_count": 12,
     "metadata": {},
     "output_type": "execute_result"
    }
   ],
   "source": [
    "tokens"
   ]
  },
  {
   "cell_type": "code",
   "execution_count": null,
   "id": "0380ffaa",
   "metadata": {},
   "outputs": [],
   "source": [
    "#alternative way to create tokens lists\n",
    "tokens1 = []  # Initialize an empty list to store the processed tokens.\n",
    "stopwords = list(STOP_WORDS)  # Get the default stop words from spaCy and convert them to a list for efficient 'in' checking.\n",
    "allowed_pos = ['ADJ', 'PROPN', 'NOUN', 'VERB', 'ADV']  # Define a list of allowed Part-of-Speech (POS) tags that we want to keep (Adjective, Proper Noun, Noun, Verb, Adverb).\n",
    "\n",
    "for token in doc:  # Iterate through each individual token that has been processed by the spaCy language model.\n",
    "    if token.text in stopwords or token.text in punctuation:\n",
    "        continue  # If the current token's text is found within our list of stop words OR if it's a punctuation mark, we skip this token and move to the next one.\n",
    "    if token.pos_ in allowed_pos:\n",
    "        tokens1.append(token.text.lower())  # If the current token's Part-of-Speech tag is present in our 'allowed_pos' list, we convert the token's text to lowercase and append it to our 'tokens1' list.\n",
    "\n"
   ]
  },
  {
   "cell_type": "code",
   "execution_count": 15,
   "id": "25bb7ddd",
   "metadata": {},
   "outputs": [
    {
     "data": {
      "text/plain": [
       "['globalization',\n",
       " 'multifaceted',\n",
       " 'process',\n",
       " 'characterized',\n",
       " 'increasing',\n",
       " 'interconnectedness',\n",
       " 'interdependence',\n",
       " 'countries',\n",
       " 'worldwide',\n",
       " 'integration',\n",
       " 'spans',\n",
       " 'economic',\n",
       " 'social',\n",
       " 'cultural',\n",
       " 'political',\n",
       " 'technological',\n",
       " 'dimensions',\n",
       " 'driven',\n",
       " 'factors',\n",
       " 'advancements',\n",
       " 'communication',\n",
       " 'transportation',\n",
       " 'liberalization',\n",
       " 'trade',\n",
       " 'capital',\n",
       " 'flows',\n",
       " 'spread',\n",
       " 'information',\n",
       " 'essentially',\n",
       " 'globalization',\n",
       " 'signifies',\n",
       " 'shift',\n",
       " 'integrated',\n",
       " 'global',\n",
       " 'society',\n",
       " 'borders',\n",
       " 'significant',\n",
       " 'aspects',\n",
       " 'life',\n",
       " 'economically',\n",
       " 'globalization',\n",
       " 'manifests',\n",
       " 'expansion',\n",
       " 'international',\n",
       " 'trade',\n",
       " 'rise',\n",
       " 'multinational',\n",
       " 'corporations',\n",
       " 'interconnectedness',\n",
       " 'financial',\n",
       " 'markets',\n",
       " 'led',\n",
       " 'increased',\n",
       " 'competition',\n",
       " 'specialization',\n",
       " 'production',\n",
       " 'different',\n",
       " 'nations',\n",
       " 'potential',\n",
       " 'greater',\n",
       " 'economic',\n",
       " 'growth',\n",
       " 'consumers',\n",
       " 'benefit',\n",
       " 'wider',\n",
       " 'variety',\n",
       " 'goods',\n",
       " 'services',\n",
       " 'potentially',\n",
       " 'lower',\n",
       " 'prices',\n",
       " 'however',\n",
       " 'economic',\n",
       " 'integration',\n",
       " 'presents',\n",
       " 'challenges',\n",
       " 'increased',\n",
       " 'competition',\n",
       " 'domestic',\n",
       " 'industries',\n",
       " 'potential',\n",
       " 'job',\n",
       " 'displacement',\n",
       " 'sectors',\n",
       " 'risk',\n",
       " 'global',\n",
       " 'economic',\n",
       " 'crises',\n",
       " 'spreading',\n",
       " 'rapidly']"
      ]
     },
     "execution_count": 15,
     "metadata": {},
     "output_type": "execute_result"
    }
   ],
   "source": [
    "tokens1"
   ]
  },
  {
   "cell_type": "code",
   "execution_count": 17,
   "id": "77f27eef",
   "metadata": {},
   "outputs": [],
   "source": [
    "from collections import Counter"
   ]
  },
  {
   "cell_type": "code",
   "execution_count": 18,
   "id": "6aed696e",
   "metadata": {},
   "outputs": [],
   "source": [
    "word_freq = Counter(tokens1) # Create a Counter object to count the frequency of each token in the 'tokens1' list."
   ]
  },
  {
   "cell_type": "code",
   "execution_count": 19,
   "id": "37f1c787",
   "metadata": {},
   "outputs": [
    {
     "data": {
      "text/plain": [
       "Counter({'economic': 4,\n",
       "         'globalization': 3,\n",
       "         'interconnectedness': 2,\n",
       "         'integration': 2,\n",
       "         'trade': 2,\n",
       "         'global': 2,\n",
       "         'increased': 2,\n",
       "         'competition': 2,\n",
       "         'potential': 2,\n",
       "         'multifaceted': 1,\n",
       "         'process': 1,\n",
       "         'characterized': 1,\n",
       "         'increasing': 1,\n",
       "         'interdependence': 1,\n",
       "         'countries': 1,\n",
       "         'worldwide': 1,\n",
       "         'spans': 1,\n",
       "         'social': 1,\n",
       "         'cultural': 1,\n",
       "         'political': 1,\n",
       "         'technological': 1,\n",
       "         'dimensions': 1,\n",
       "         'driven': 1,\n",
       "         'factors': 1,\n",
       "         'advancements': 1,\n",
       "         'communication': 1,\n",
       "         'transportation': 1,\n",
       "         'liberalization': 1,\n",
       "         'capital': 1,\n",
       "         'flows': 1,\n",
       "         'spread': 1,\n",
       "         'information': 1,\n",
       "         'essentially': 1,\n",
       "         'signifies': 1,\n",
       "         'shift': 1,\n",
       "         'integrated': 1,\n",
       "         'society': 1,\n",
       "         'borders': 1,\n",
       "         'significant': 1,\n",
       "         'aspects': 1,\n",
       "         'life': 1,\n",
       "         'economically': 1,\n",
       "         'manifests': 1,\n",
       "         'expansion': 1,\n",
       "         'international': 1,\n",
       "         'rise': 1,\n",
       "         'multinational': 1,\n",
       "         'corporations': 1,\n",
       "         'financial': 1,\n",
       "         'markets': 1,\n",
       "         'led': 1,\n",
       "         'specialization': 1,\n",
       "         'production': 1,\n",
       "         'different': 1,\n",
       "         'nations': 1,\n",
       "         'greater': 1,\n",
       "         'growth': 1,\n",
       "         'consumers': 1,\n",
       "         'benefit': 1,\n",
       "         'wider': 1,\n",
       "         'variety': 1,\n",
       "         'goods': 1,\n",
       "         'services': 1,\n",
       "         'potentially': 1,\n",
       "         'lower': 1,\n",
       "         'prices': 1,\n",
       "         'however': 1,\n",
       "         'presents': 1,\n",
       "         'challenges': 1,\n",
       "         'domestic': 1,\n",
       "         'industries': 1,\n",
       "         'job': 1,\n",
       "         'displacement': 1,\n",
       "         'sectors': 1,\n",
       "         'risk': 1,\n",
       "         'crises': 1,\n",
       "         'spreading': 1,\n",
       "         'rapidly': 1})"
      ]
     },
     "execution_count": 19,
     "metadata": {},
     "output_type": "execute_result"
    }
   ],
   "source": [
    "word_freq"
   ]
  },
  {
   "cell_type": "code",
   "execution_count": 20,
   "id": "c1259b5d",
   "metadata": {},
   "outputs": [
    {
     "data": {
      "text/plain": [
       "4"
      ]
     },
     "execution_count": 20,
     "metadata": {},
     "output_type": "execute_result"
    }
   ],
   "source": [
    "max_freq = max(word_freq.values()) # Find the maximum frequency value from the 'word_freq' Counter object.\n",
    "max_freq"
   ]
  },
  {
   "cell_type": "code",
   "execution_count": 21,
   "id": "8fe647b9",
   "metadata": {},
   "outputs": [],
   "source": [
    "for word in word_freq.keys(): # Iterate through each unique word in the 'word_freq' Counter object.\n",
    "    word_freq[word] = (word_freq[word] / max_freq) # Normalize the frequency of each word by dividing its count by the maximum frequency value.  "
   ]
  },
  {
   "cell_type": "code",
   "execution_count": 22,
   "id": "cbcfed3c",
   "metadata": {},
   "outputs": [
    {
     "data": {
      "text/plain": [
       "Counter({'economic': 1.0,\n",
       "         'globalization': 0.75,\n",
       "         'interconnectedness': 0.5,\n",
       "         'integration': 0.5,\n",
       "         'trade': 0.5,\n",
       "         'global': 0.5,\n",
       "         'increased': 0.5,\n",
       "         'competition': 0.5,\n",
       "         'potential': 0.5,\n",
       "         'multifaceted': 0.25,\n",
       "         'process': 0.25,\n",
       "         'characterized': 0.25,\n",
       "         'increasing': 0.25,\n",
       "         'interdependence': 0.25,\n",
       "         'countries': 0.25,\n",
       "         'worldwide': 0.25,\n",
       "         'spans': 0.25,\n",
       "         'social': 0.25,\n",
       "         'cultural': 0.25,\n",
       "         'political': 0.25,\n",
       "         'technological': 0.25,\n",
       "         'dimensions': 0.25,\n",
       "         'driven': 0.25,\n",
       "         'factors': 0.25,\n",
       "         'advancements': 0.25,\n",
       "         'communication': 0.25,\n",
       "         'transportation': 0.25,\n",
       "         'liberalization': 0.25,\n",
       "         'capital': 0.25,\n",
       "         'flows': 0.25,\n",
       "         'spread': 0.25,\n",
       "         'information': 0.25,\n",
       "         'essentially': 0.25,\n",
       "         'signifies': 0.25,\n",
       "         'shift': 0.25,\n",
       "         'integrated': 0.25,\n",
       "         'society': 0.25,\n",
       "         'borders': 0.25,\n",
       "         'significant': 0.25,\n",
       "         'aspects': 0.25,\n",
       "         'life': 0.25,\n",
       "         'economically': 0.25,\n",
       "         'manifests': 0.25,\n",
       "         'expansion': 0.25,\n",
       "         'international': 0.25,\n",
       "         'rise': 0.25,\n",
       "         'multinational': 0.25,\n",
       "         'corporations': 0.25,\n",
       "         'financial': 0.25,\n",
       "         'markets': 0.25,\n",
       "         'led': 0.25,\n",
       "         'specialization': 0.25,\n",
       "         'production': 0.25,\n",
       "         'different': 0.25,\n",
       "         'nations': 0.25,\n",
       "         'greater': 0.25,\n",
       "         'growth': 0.25,\n",
       "         'consumers': 0.25,\n",
       "         'benefit': 0.25,\n",
       "         'wider': 0.25,\n",
       "         'variety': 0.25,\n",
       "         'goods': 0.25,\n",
       "         'services': 0.25,\n",
       "         'potentially': 0.25,\n",
       "         'lower': 0.25,\n",
       "         'prices': 0.25,\n",
       "         'however': 0.25,\n",
       "         'presents': 0.25,\n",
       "         'challenges': 0.25,\n",
       "         'domestic': 0.25,\n",
       "         'industries': 0.25,\n",
       "         'job': 0.25,\n",
       "         'displacement': 0.25,\n",
       "         'sectors': 0.25,\n",
       "         'risk': 0.25,\n",
       "         'crises': 0.25,\n",
       "         'spreading': 0.25,\n",
       "         'rapidly': 0.25})"
      ]
     },
     "execution_count": 22,
     "metadata": {},
     "output_type": "execute_result"
    }
   ],
   "source": [
    "word_freq"
   ]
  },
  {
   "cell_type": "code",
   "execution_count": 28,
   "id": "47d26011",
   "metadata": {},
   "outputs": [
    {
     "name": "stdout",
     "output_type": "stream",
     "text": [
      "worldwide.\n",
      "\n",
      "Globalization is a multifaceted process characterized by the increasing interconnectedness and interdependence of countries worldwide.\n",
      "information.\n",
      "This integration spans economic, social, cultural, political, and technological dimensions, driven by factors such as advancements in communication and transportation, the liberalization of trade and capital flows, and the spread of information.\n",
      "life.\n",
      "Essentially, globalization signifies a shift towards a more integrated global society where borders become less significant in various aspects of life.   \n",
      "\n",
      "\n",
      "markets.\n",
      "Economically, globalization manifests in the expansion of international trade, the rise of multinational corporations, and the interconnectedness of financial markets.\n",
      "growth.\n",
      "This has led to increased competition, the specialization of production across different nations, and the potential for greater economic growth.\n",
      "prices.\n",
      "Consumers often benefit from a wider variety of goods and services at potentially lower prices.\n",
      "rapidly.\n",
      "However, this economic integration also presents challenges such as increased competition for domestic industries, potential job displacement in some sectors, and the risk of global economic crises spreading rapidly.\n"
     ]
    }
   ],
   "source": [
    "sent_token = [sent.text for sent in doc.sents] # Create a list of sentences by iterating through each sentence in the processed document.\n",
    "#sent_token\n",
    "sent_scores = {} # Initialize an empty dictionary to store the scores of each sentence.\n",
    "#for sent in doc.sents: # Iterate through each sentence in the processed document.\n",
    "    #for word in sent: # For each word in the current sentence.\n",
    "        #if word.text.lower() in word_freq.keys(): # Check if the lowercase version of the word is present in our 'word_freq' dictionary.\n",
    "            #if sent in sent_scores.keys(): # If the current sentence is already present in our 'sent_scores' dictionary.\n",
    "                #sent_scores[sent] += word_freq[word.text.lower()] # Increment the score of the current sentence by the frequency of the word.\n",
    "           # else:\n",
    "                #sent_scores[sent] = word_freq[word.text.lower()] # If the sentence is not already present, initialize its score with the frequency of the word.\n",
    "\n",
    "for sent in sent_token: # Iterate through each sentence in the processed document.\n",
    "  for word in sent.split(): # For each word in the current sentence.\n",
    "    if word.lower() in word_freq.keys():\n",
    "      if sent not in sent_scores.keys(): # If the current sentence is not already present in our 'sent_scores' dictionary.\n",
    "        sent_scores[sent] = word_freq[word]# Initialize the score of the current sentence with the frequency of the word.\n",
    "      else:\n",
    "      \n",
    "          sent_scores[sent] += word_freq[word] # Increment the score of the current sentence by the frequency of the word.\n",
    "\n",
    "  print(word) # Print the word being processed.\n",
    "  print(sent) # Print the sentence being processed. \n"
   ]
  },
  {
   "cell_type": "code",
   "execution_count": 29,
   "id": "e5ef80dc",
   "metadata": {},
   "outputs": [
    {
     "data": {
      "text/plain": [
       "{'\\nGlobalization is a multifaceted process characterized by the increasing interconnectedness and interdependence of countries worldwide.': 2.0,\n",
       " 'This integration spans economic, social, cultural, political, and technological dimensions, driven by factors such as advancements in communication and transportation, the liberalization of trade and capital flows, and the spread of information.': 3.25,\n",
       " 'Essentially, globalization signifies a shift towards a more integrated global society where borders become less significant in various aspects of life. \\xa0 \\n\\n': 3.0,\n",
       " 'Economically, globalization manifests in the expansion of international trade, the rise of multinational corporations, and the interconnectedness of financial markets.': 2.75,\n",
       " 'This has led to increased competition, the specialization of production across different nations, and the potential for greater economic growth.': 3.25,\n",
       " 'Consumers often benefit from a wider variety of goods and services at potentially lower prices.': 1.75,\n",
       " 'However, this economic integration also presents challenges such as increased competition for domestic industries, potential job displacement in some sectors, and the risk of global economic crises spreading rapidly.': 6.5}"
      ]
     },
     "execution_count": 29,
     "metadata": {},
     "output_type": "execute_result"
    }
   ],
   "source": [
    "sent_scores # Display the final scores of each sentence."
   ]
  },
  {
   "cell_type": "code",
   "execution_count": 30,
   "id": "d91cccfa",
   "metadata": {},
   "outputs": [
    {
     "data": {
      "text/html": [
       "<div>\n",
       "<style scoped>\n",
       "    .dataframe tbody tr th:only-of-type {\n",
       "        vertical-align: middle;\n",
       "    }\n",
       "\n",
       "    .dataframe tbody tr th {\n",
       "        vertical-align: top;\n",
       "    }\n",
       "\n",
       "    .dataframe thead th {\n",
       "        text-align: right;\n",
       "    }\n",
       "</style>\n",
       "<table border=\"1\" class=\"dataframe\">\n",
       "  <thead>\n",
       "    <tr style=\"text-align: right;\">\n",
       "      <th></th>\n",
       "      <th>Sentence</th>\n",
       "      <th>Score</th>\n",
       "    </tr>\n",
       "  </thead>\n",
       "  <tbody>\n",
       "    <tr>\n",
       "      <th>6</th>\n",
       "      <td>However, this economic integration also presen...</td>\n",
       "      <td>6.50</td>\n",
       "    </tr>\n",
       "    <tr>\n",
       "      <th>1</th>\n",
       "      <td>This integration spans economic, social, cultu...</td>\n",
       "      <td>3.25</td>\n",
       "    </tr>\n",
       "    <tr>\n",
       "      <th>4</th>\n",
       "      <td>This has led to increased competition, the spe...</td>\n",
       "      <td>3.25</td>\n",
       "    </tr>\n",
       "    <tr>\n",
       "      <th>2</th>\n",
       "      <td>Essentially, globalization signifies a shift t...</td>\n",
       "      <td>3.00</td>\n",
       "    </tr>\n",
       "    <tr>\n",
       "      <th>3</th>\n",
       "      <td>Economically, globalization manifests in the e...</td>\n",
       "      <td>2.75</td>\n",
       "    </tr>\n",
       "    <tr>\n",
       "      <th>0</th>\n",
       "      <td>\\nGlobalization is a multifaceted process char...</td>\n",
       "      <td>2.00</td>\n",
       "    </tr>\n",
       "    <tr>\n",
       "      <th>5</th>\n",
       "      <td>Consumers often benefit from a wider variety o...</td>\n",
       "      <td>1.75</td>\n",
       "    </tr>\n",
       "  </tbody>\n",
       "</table>\n",
       "</div>"
      ],
      "text/plain": [
       "                                            Sentence  Score\n",
       "6  However, this economic integration also presen...   6.50\n",
       "1  This integration spans economic, social, cultu...   3.25\n",
       "4  This has led to increased competition, the spe...   3.25\n",
       "2  Essentially, globalization signifies a shift t...   3.00\n",
       "3  Economically, globalization manifests in the e...   2.75\n",
       "0  \\nGlobalization is a multifaceted process char...   2.00\n",
       "5  Consumers often benefit from a wider variety o...   1.75"
      ]
     },
     "execution_count": 30,
     "metadata": {},
     "output_type": "execute_result"
    }
   ],
   "source": [
    "import pandas as pd\n",
    "# Create a DataFrame from the 'sent_scores' dictionary, where the index is the sentence and the values are the scores.\n",
    "#df = pd.DataFrame.from_dict(sent_scores, orient='index', columns=['Score']) # Create a DataFrame from the 'sent_scores' dictionary, where the index is the sentence and the values are the scores.\n",
    "#df = df.sort_values(by='Score', ascending=False) # Sort the DataFrame by the 'Score' column in descending order.\n",
    "pd.DataFrame(list(sent_scores.items()), columns=['Sentence', 'Score']).sort_values(by='Score', ascending=False) # Create a DataFrame from the 'sent_scores' dictionary, where the index is the sentence and the values are the scores."
   ]
  },
  {
   "cell_type": "code",
   "execution_count": 32,
   "id": "c74d7eca",
   "metadata": {},
   "outputs": [
    {
     "data": {
      "text/plain": [
       "'However, this economic integration also presents challenges such as increased competition for domestic industries, potential job displacement in some sectors, and the risk of global economic crises spreading rapidly. This integration spans economic, social, cultural, political, and technological dimensions, driven by factors such as advancements in communication and transportation, the liberalization of trade and capital flows, and the spread of information. This has led to increased competition, the specialization of production across different nations, and the potential for greater economic growth.'"
      ]
     },
     "execution_count": 32,
     "metadata": {},
     "output_type": "execute_result"
    }
   ],
   "source": [
    "from heapq import nlargest # Import the 'nlargest' function from the 'heapq' module to find the largest elements in an iterable.\n",
    "num_sentences = 3 # Define the number of sentences to extract for the summary.\n",
    "\n",
    "n = nlargest(num_sentences, sent_scores, key=sent_scores.get) # Use the 'nlargest' function to find the top 'number of sentences' sentences based on their scores.\n",
    "\" \".join(n) # Join the selected sentences into a single string, separating them with a newline character.\n",
    "# Display the final summary. "
   ]
  }
 ],
 "metadata": {
  "kernelspec": {
   "display_name": "base",
   "language": "python",
   "name": "python3"
  },
  "language_info": {
   "codemirror_mode": {
    "name": "ipython",
    "version": 3
   },
   "file_extension": ".py",
   "mimetype": "text/x-python",
   "name": "python",
   "nbconvert_exporter": "python",
   "pygments_lexer": "ipython3",
   "version": "3.12.3"
  }
 },
 "nbformat": 4,
 "nbformat_minor": 5
}
