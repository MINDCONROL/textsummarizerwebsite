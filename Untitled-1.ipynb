{
 "cells": [
  {
   "cell_type": "code",
   "execution_count": 34,
   "id": "3352c2bf",
   "metadata": {},
   "outputs": [
    {
     "name": "stdout",
     "output_type": "stream",
     "text": [
      "[(0, 'Its official Apple is the first company to reach a $3 trillion market cap.', 4.0625), (1, \"The iPhone maker's stock hit the milestone during intraday trading on Monday, January 3, 2022.\", 3.263157894736842), (2, 'The stock has been on a tear since the pandemic began, rising more than 500% from its March 2020 lows.', 2.739130434782609), (3, 'Apple is the first company to reach a $3 trillion market cap, but it is not the first to be valued at that level.', 4.407407407407407), (4, 'Microsoft and Amazon have both reached that level in the past, but they have since fallen back below it.', 3.5238095238095237), (5, 'Apple is the first company to reach a $3 trillion market cap, but it is not the first to be valued at that level.', 4.407407407407407), (6, 'Microsoft and Amazon have both reached that level in the past, but they have since fallen back below it.', 3.5238095238095237)]\n",
      " Its official Apple is the first company to reach a $3 trillion market cap. Apple is the first company to reach a $3 trillion market cap, but it is not the first to be valued at that level. Apple is the first company to reach a $3 trillion market cap, but it is not the first to be valued at that level. \n"
     ]
    }
   ],
   "source": [
    "import spacy\n",
    "\n",
    "nlp = spacy.load(\"en_core_web_sm\")\n",
    "text = \"Its official Apple is the first company to reach a $3 trillion market cap. The iPhone maker's stock hit the milestone during intraday trading on Monday, January 3, 2022. The stock has been on a tear since the pandemic began, rising more than 500% from its March 2020 lows. Apple is the first company to reach a $3 trillion market cap, but it is not the first to be valued at that level. Microsoft and Amazon have both reached that level in the past, but they have since fallen back below it. Apple is the first company to reach a $3 trillion market cap, but it is not the first to be valued at that level. Microsoft and Amazon have both reached that level in the past, but they have since fallen back below it.\"\n",
    "\n",
    "\n",
    "# process the text\n",
    "doc = nlp(text)\n",
    "# Extract sentences from the text\n",
    "# get the word count\n",
    "word_dict = {}\n",
    "for word in doc:\n",
    "    word = word.text.lower()\n",
    "\n",
    "    if word in word_dict:\n",
    "        word_dict[word] += 1\n",
    "    else:\n",
    "        word_dict[word] = 1\n",
    "\n",
    "    # print(word_dict)  # It looks like this line was intended to be outside the loop\n",
    "\n",
    "sentences = []\n",
    "sentence_score = 0\n",
    "\n",
    "for i, sentence in enumerate(doc.sents):\n",
    "    sentence_score = 0  # Reset sentence score for each sentence\n",
    "    for word in sentence:\n",
    "        word = word.text.lower()\n",
    "        sentence_score += word_dict.get(word, 0) # Use .get() to handle potential missing words\n",
    "    sentences.append((i, sentence.text.replace('\\n', ''), sentence_score / len(sentence) if len(sentence) > 0 else 0))\n",
    "\n",
    "print(sentences)\n",
    "sorted_sentences = sorted(sentences, key=lambda x: -x[2])\n",
    "top_three = sorted(sorted_sentences[:3], key=lambda x: x[0])\n",
    "\n",
    "summary_text = \" \"\n",
    "\n",
    "for sentence in top_three:\n",
    "    summary_text += sentence[1] + \" \"\n",
    "\n",
    "print(summary_text)  \n"
   ]
  }
 ],
 "metadata": {
  "kernelspec": {
   "display_name": "base",
   "language": "python",
   "name": "python3"
  },
  "language_info": {
   "codemirror_mode": {
    "name": "ipython",
    "version": 3
   },
   "file_extension": ".py",
   "mimetype": "text/x-python",
   "name": "python",
   "nbconvert_exporter": "python",
   "pygments_lexer": "ipython3",
   "version": "3.12.3"
  }
 },
 "nbformat": 4,
 "nbformat_minor": 5
}
